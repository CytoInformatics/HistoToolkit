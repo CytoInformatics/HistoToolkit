{
 "cells": [
  {
   "cell_type": "code",
   "execution_count": 1,
   "metadata": {
    "collapsed": true
   },
   "outputs": [],
   "source": [
    "import example_operations as eo"
   ]
  },
  {
   "cell_type": "code",
   "execution_count": 2,
   "metadata": {
    "collapsed": false
   },
   "outputs": [
    {
     "data": {
      "text/plain": [
       "12"
      ]
     },
     "execution_count": 2,
     "metadata": {},
     "output_type": "execute_result"
    }
   ],
   "source": [
    "# demonstrate getattr\n",
    "eo.op1(2, 2, 3)\n",
    "\n",
    "swanky_add = getattr(eo, 'op1')\n",
    "swanky_add(2, 2, 3)"
   ]
  },
  {
   "cell_type": "code",
   "execution_count": 3,
   "metadata": {
    "collapsed": false
   },
   "outputs": [
    {
     "name": "stdout",
     "output_type": "stream",
     "text": [
      "Manual operations\n",
      "op1 result: 12\n",
      "Display set to true!\n",
      "op2 result: 14\n"
     ]
    }
   ],
   "source": [
    "# manually perform sequence of operations\n",
    "print(\"Manual operations\")\n",
    "val = 2\n",
    "val = eo.op1(val, 2, 3)\n",
    "print(\"op1 result: %d\" % val)\n",
    "val = eo.op2(val, 2, True)\n",
    "print(\"op2 result: %d\" % val)"
   ]
  },
  {
   "cell_type": "code",
   "execution_count": 4,
   "metadata": {
    "collapsed": false
   },
   "outputs": [
    {
     "name": "stdout",
     "output_type": "stream",
     "text": [
      "getattr operations\n",
      "[{'params': {'arg1': 2, 'arg2': 3}, 'op_name': 'op1', 'op': <function op1 at 0x0000000003DC6588>}, {'params': {'disp': True, 'arg1': 2}, 'op_name': 'op2', 'op': <function op2 at 0x0000000003DC6438>}]\n",
      "op1 result: 12\n",
      "Display set to true!\n",
      "op2 result: 14\n"
     ]
    }
   ],
   "source": [
    "# iterate through sequence of operations\n",
    "ops_names = ['op1', 'op2']\n",
    "ops_params = [\n",
    "    {'arg1': 2, 'arg2': 3},\n",
    "    {'arg1': 2, 'disp': True}          \n",
    "]\n",
    "ops = [\n",
    "    {'op': getattr(eo, op_name),\n",
    "     'op_name': op_name,\n",
    "     'params': params\n",
    "    } for op_name, params in zip(ops_names, ops_params)\n",
    "]\n",
    "\n",
    "print(\"getattr operations\")\n",
    "print(ops)\n",
    "val = 2\n",
    "for op in ops:\n",
    "    val = op['op'](val, **op['params'])\n",
    "    print(\"%s result: %d\" % (op['op_name'], val))"
   ]
  },
  {
   "cell_type": "code",
   "execution_count": null,
   "metadata": {
    "collapsed": true
   },
   "outputs": [],
   "source": []
  }
 ],
 "metadata": {
  "anaconda-cloud": {},
  "kernelspec": {
   "display_name": "Python [Root]",
   "language": "python",
   "name": "Python [Root]"
  },
  "language_info": {
   "codemirror_mode": {
    "name": "ipython",
    "version": 2
   },
   "file_extension": ".py",
   "mimetype": "text/x-python",
   "name": "python",
   "nbconvert_exporter": "python",
   "pygments_lexer": "ipython2",
   "version": "2.7.12"
  }
 },
 "nbformat": 4,
 "nbformat_minor": 0
}
