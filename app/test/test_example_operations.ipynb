{
 "cells": [
  {
   "cell_type": "code",
   "execution_count": 2,
   "metadata": {},
   "outputs": [],
   "source": [
    "import example_operations as eo"
   ]
  },
  {
   "cell_type": "code",
   "execution_count": null,
   "metadata": {},
   "outputs": [],
   "source": [
    "# demonstrate getattr\n",
    "eo.op1(2, 2, 3)\n",
    "\n",
    "swanky_add = getattr(eo, 'op1')\n",
    "swanky_add(2, 2, 3)"
   ]
  },
  {
   "cell_type": "code",
   "execution_count": null,
   "metadata": {},
   "outputs": [],
   "source": [
    "# manually perform sequence of operations\n",
    "print(\"Manual operations\")\n",
    "val = 2\n",
    "val = eo.op1(val, 2, 3)\n",
    "print(\"op1 result: %d\" % val)\n",
    "val = eo.op2(val, 2, True)\n",
    "print(\"op2 result: %d\" % val)"
   ]
  },
  {
   "cell_type": "code",
   "execution_count": null,
   "metadata": {},
   "outputs": [],
   "source": [
    "# iterate through sequence of operations\n",
    "ops_names = ['op1', 'op2']\n",
    "ops_params = [\n",
    "    {'arg1': 2, 'arg2': 3},\n",
    "    {'arg1': 2, 'disp': True}          \n",
    "]\n",
    "ops = [\n",
    "    {'op': getattr(eo, op_name),\n",
    "     'op_name': op_name,\n",
    "     'params': params\n",
    "    } for op_name, params in zip(ops_names, ops_params)\n",
    "]\n",
    "\n",
    "print(\"getattr operations\")\n",
    "print(ops)\n",
    "val = 2\n",
    "for op in ops:\n",
    "    val = op['op'](val, **op['params'])\n",
    "    print(\"%s result: %d\" % (op['op_name'], val))"
   ]
  },
  {
   "cell_type": "code",
   "execution_count": null,
   "metadata": {
    "collapsed": true
   },
   "outputs": [],
   "source": []
  }
 ],
 "metadata": {
  "anaconda-cloud": {},
  "kernelspec": {
   "display_name": "HistoToolkit",
   "language": "python",
   "name": "histotoolkit"
  },
  "language_info": {
   "codemirror_mode": {
    "name": "ipython",
    "version": 2
   },
   "file_extension": ".py",
   "mimetype": "text/x-python",
   "name": "python",
   "nbconvert_exporter": "python",
   "pygments_lexer": "ipython2",
   "version": "2.7.13"
  }
 },
 "nbformat": 4,
 "nbformat_minor": 1
}
