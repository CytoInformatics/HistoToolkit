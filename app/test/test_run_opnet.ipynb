{
 "cells": [
  {
   "cell_type": "code",
   "execution_count": null,
   "metadata": {
    "collapsed": true
   },
   "outputs": [],
   "source": [
    "import example_operations as eo\n",
    "\n",
    "# opnet file must be added to path to include\n",
    "import sys\n",
    "sys.path\n",
    "sys.path.append('/home/masonmcgough/Workspace/HistoToolkit/app/tools')\n",
    "import opnet"
   ]
  },
  {
   "cell_type": "markdown",
   "metadata": {},
   "source": [
    "## Define network architecture"
   ]
  },
  {
   "cell_type": "code",
   "execution_count": null,
   "metadata": {
    "collapsed": true
   },
   "outputs": [],
   "source": [
    "mynet1 = opnet.OpNet()\n",
    "\n",
    "node1 = mynet1.add_node(eo.op_add, {'arg1': 4, 'arg2': 3}, ['add1'])\n",
    "node1_split = mynet1.add_node(eo.op_split, {'arg1': None, 'n_outs': 2}, ['add1_1', 'add1_2'])\n",
    "node2 = mynet1.add_node(eo.op_negate, {'arg1': None, 'negate': True}, ['negate1'])\n",
    "node3 = mynet1.add_node(eo.op_add, {'arg1': None, 'arg2': None}, ['add2'])\n",
    "\n",
    "conduit1 = mynet1.bind(node1, 'add1', node1_split, 'arg1')\n",
    "conduit2 = mynet1.bind(node1_split, 'add1_1', node3, 'arg1')\n",
    "conduit3 = mynet1.bind(node1_split, 'add1_2', node2, 'arg1')\n",
    "conduit4 = mynet1.bind(node2, 'negate1', node3, 'arg2')\n"
   ]
  },
  {
   "cell_type": "markdown",
   "metadata": {},
   "source": [
    "## Evaluate network"
   ]
  },
  {
   "cell_type": "code",
   "execution_count": null,
   "metadata": {},
   "outputs": [],
   "source": [
    "mynet1.run()"
   ]
  }
 ],
 "metadata": {
  "kernelspec": {
   "display_name": "HistoToolkit",
   "language": "python",
   "name": "histotoolkit"
  },
  "language_info": {
   "codemirror_mode": {
    "name": "ipython",
    "version": 2
   },
   "file_extension": ".py",
   "mimetype": "text/x-python",
   "name": "python",
   "nbconvert_exporter": "python",
   "pygments_lexer": "ipython2",
   "version": "2.7.13"
  }
 },
 "nbformat": 4,
 "nbformat_minor": 2
}
