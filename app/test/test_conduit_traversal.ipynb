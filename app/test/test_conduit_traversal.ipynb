{
 "cells": [
  {
   "cell_type": "code",
   "execution_count": 1,
   "metadata": {},
   "outputs": [],
   "source": [
    "import example_operations as eo\n",
    "\n",
    "import sys\n",
    "sys.path\n",
    "sys.path.append('/home/masonmcgough/Workspace/HistoToolkit/app/tools')\n",
    "import opnet"
   ]
  },
  {
   "cell_type": "markdown",
   "metadata": {},
   "source": [
    "## Define functions"
   ]
  },
  {
   "cell_type": "code",
   "execution_count": null,
   "metadata": {
    "collapsed": true
   },
   "outputs": [],
   "source": []
  },
  {
   "cell_type": "markdown",
   "metadata": {},
   "source": [
    "## Define network architecture"
   ]
  },
  {
   "cell_type": "code",
   "execution_count": 2,
   "metadata": {},
   "outputs": [],
   "source": [
    "mynet1 = opnet.OpNet()\n",
    "\n",
    "node1 = mynet1.add_node(eo.op_add, {'arg1': 4, 'arg2': 3}, ['add1'])\n",
    "node1_split = mynet1.add_node(eo.op_split, {'arg1': None, 'n_outs': 2}, ['add1_1', 'add1_2'])\n",
    "node2 = mynet1.add_node(eo.op_negate, {'arg1': None, 'negate': True}, ['negate1'])\n",
    "node3 = mynet1.add_node(eo.op_add, {'arg1': None, 'arg2': None}, ['add2'])\n",
    "\n",
    "conduit1 = mynet1.bind(node1, 'add1', node1_split, 'arg1')\n",
    "conduit2 = mynet1.bind(node1_split, 'add1_1', node3, 'arg1')\n",
    "conduit3 = mynet1.bind(node1_split, 'add1_2', node2, 'arg1')\n",
    "conduit4 = mynet1.bind(node2, 'negate1', node3, 'arg2')\n"
   ]
  },
  {
   "cell_type": "markdown",
   "metadata": {
    "collapsed": true
   },
   "source": [
    "## Manually execute network "
   ]
  },
  {
   "cell_type": "code",
   "execution_count": 3,
   "metadata": {},
   "outputs": [
    {
     "name": "stdout",
     "output_type": "stream",
     "text": [
      "{'add1': 7}\n",
      "{'add1_1': 7, 'add1_2': 7}\n",
      "{'negate1': 0}\n",
      "{'add2': 7}\n",
      "7\n",
      "7\n",
      "7\n",
      "0\n",
      "# nodes: 4\n",
      "# conduits: 4\n"
     ]
    }
   ],
   "source": [
    "print(node1.execute())\n",
    "print(node1_split.execute())\n",
    "print(node2.execute())\n",
    "print(node3.execute())\n",
    "\n",
    "print(conduit1.value)\n",
    "print(conduit2.value)\n",
    "print(conduit3.value)\n",
    "print(conduit4.value)\n",
    "print(\"# nodes: {0}\".format(len(mynet1.nodes)))\n",
    "print(\"# conduits: {0}\".format(len(mynet1.conduits)))"
   ]
  },
  {
   "cell_type": "markdown",
   "metadata": {},
   "source": [
    "## Recurse from beginning through conduits, storing max depth at each node"
   ]
  },
  {
   "cell_type": "code",
   "execution_count": 4,
   "metadata": {},
   "outputs": [
    {
     "name": "stdout",
     "output_type": "stream",
     "text": [
      "Node:                     \n",
      "\top: <function op_add at 0x7ff407596b90>                     \n",
      "\tparams: [<opnet.Param instance at 0x7ff4074c62d8>, <opnet.Param instance at 0x7ff4074c6680>]                     \n",
      "\toutputs: [<opnet.Output instance at 0x7ff4074c66c8>]                     \n",
      "\tdepth: 0\n",
      "Node:                     \n",
      "\top: <function op_split at 0x7ff407596cf8>                     \n",
      "\tparams: [<opnet.Param instance at 0x7ff4074c6758>, <opnet.Param instance at 0x7ff4074c67a0>]                     \n",
      "\toutputs: [<opnet.Output instance at 0x7ff4074c67e8>, <opnet.Output instance at 0x7ff4074c6830>]                     \n",
      "\tdepth: 0\n",
      "Node:                     \n",
      "\top: <function op_negate at 0x7ff407596d70>                     \n",
      "\tparams: [<opnet.Param instance at 0x7ff4074c68c0>, <opnet.Param instance at 0x7ff4074c6908>]                     \n",
      "\toutputs: [<opnet.Output instance at 0x7ff4074c6950>]                     \n",
      "\tdepth: 0\n",
      "Node:                     \n",
      "\top: <function op_add at 0x7ff407596b90>                     \n",
      "\tparams: [<opnet.Param instance at 0x7ff4074c69e0>, <opnet.Param instance at 0x7ff4074c6a28>]                     \n",
      "\toutputs: [<opnet.Output instance at 0x7ff4074c6a70>]                     \n",
      "\tdepth: 1\n"
     ]
    }
   ],
   "source": [
    "# define root node(s) as any nodes with at least one non-Conduit input (or no inputs)\n",
    "rootnodes = []\n",
    "for node in mynet1.nodes:\n",
    "    if any(not isinstance(i._value, opnet.Conduit) for i in node.params):\n",
    "        rootnodes.append(node)\n",
    "    \n",
    "# walk through conduits (param -> outputs) and store depth (max path length) at each node\n",
    "def walk_conduits(node, depth=0):\n",
    "    new_depth = depth\n",
    "    for output in node.outputs:\n",
    "        if isinstance(output._value, opnet.Conduit):\n",
    "            new_depth = min(depth, walk_conduits(output._value.output.node, depth+1))\n",
    "        \n",
    "    node.depth = new_depth\n",
    "    return new_depth\n",
    "\n",
    "for rootnode in rootnodes:\n",
    "    walk_conduits(rootnode)\n",
    "    \n",
    "for node in mynet1.nodes:\n",
    "    print(node)"
   ]
  },
  {
   "cell_type": "code",
   "execution_count": null,
   "metadata": {
    "collapsed": true
   },
   "outputs": [],
   "source": []
  }
 ],
 "metadata": {
  "kernelspec": {
   "display_name": "HistoToolkit",
   "language": "python",
   "name": "histotoolkit"
  },
  "language_info": {
   "codemirror_mode": {
    "name": "ipython",
    "version": 2
   },
   "file_extension": ".py",
   "mimetype": "text/x-python",
   "name": "python",
   "nbconvert_exporter": "python",
   "pygments_lexer": "ipython2",
   "version": "2.7.13"
  }
 },
 "nbformat": 4,
 "nbformat_minor": 2
}
